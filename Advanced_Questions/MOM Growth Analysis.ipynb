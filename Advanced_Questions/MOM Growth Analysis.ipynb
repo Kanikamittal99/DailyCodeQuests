{
 "cells": [
  {
   "cell_type": "markdown",
   "metadata": {},
   "source": [
    "### Compute the month-on-month growth rate in sales for each product, highlighting products with more than 10% growth for consecutive months."
   ]
  },
  {
   "cell_type": "markdown",
   "metadata": {},
   "source": [
    "**Solving in both SQL & Python**"
   ]
  },
  {
   "cell_type": "code",
   "execution_count": 3,
   "metadata": {},
   "outputs": [],
   "source": [
    "# %pip install pyodbc\n",
    "# import pyodbc"
   ]
  },
  {
   "cell_type": "code",
   "execution_count": 4,
   "metadata": {},
   "outputs": [],
   "source": [
    "import pandas as pd\n",
    "import numpy as np\n",
    "import pyodbc\n",
    "from warnings import filterwarnings\n",
    "\n",
    "filterwarnings(\"ignore\", category=UserWarning, message='.*pandas only supports SQLAlchemy connectable.*')\n"
   ]
  },
  {
   "cell_type": "markdown",
   "metadata": {},
   "source": [
    "https://4js.com/online_documentation/fjs-fgl-3.00.05-manual-html/c_fgl_DataConversions_format_datetimes.html"
   ]
  },
  {
   "cell_type": "code",
   "execution_count": 5,
   "metadata": {},
   "outputs": [
    {
     "name": "stdout",
     "output_type": "stream",
     "text": [
      "  Month Product  Sales\n",
      "0   Jan       A    200\n",
      "1   Feb       A    220\n",
      "2   Mar       A    240\n",
      "3   Jan       B    150\n",
      "4   Feb       B    165\n",
      "5   Mar       B    180\n"
     ]
    }
   ],
   "source": [
    "df2 = pd.DataFrame({\n",
    "    'Month': ['Jan', 'Feb', 'Mar', 'Jan', 'Feb', 'Mar'],\n",
    "    'Product': ['A', 'A', 'A', 'B', 'B', 'B'],\n",
    "    'Sales': [200, 220, 240, 150, 165, 180]\n",
    "})\n",
    "print(df2)\n"
   ]
  },
  {
   "cell_type": "code",
   "execution_count": 6,
   "metadata": {},
   "outputs": [],
   "source": [
    "# Map month names to numerical values\n",
    "month_mapping = {'Jan': 1, 'Feb': 2, 'Mar': 3}\n",
    "df2['MonthNum'] = df2['Month'].map(month_mapping)\n",
    "\n",
    "df2 = df2.sort_values(by=['Product', 'MonthNum'])"
   ]
  },
  {
   "cell_type": "code",
   "execution_count": 7,
   "metadata": {},
   "outputs": [
    {
     "name": "stdout",
     "output_type": "stream",
     "text": [
      "  Month Product  Sales  MonthNum  PrevMonthSales  GrowthRate M1  GrowthRate M2\n",
      "0   Jan       A    200         1             NaN            NaN            NaN\n",
      "1   Feb       A    220         2           200.0      10.000000      10.000000\n",
      "2   Mar       A    240         3           220.0       9.090909       9.090909\n",
      "3   Jan       B    150         1             NaN            NaN            NaN\n",
      "4   Feb       B    165         2           150.0      10.000000      10.000000\n",
      "5   Mar       B    180         3           165.0       9.090909       9.090909\n"
     ]
    }
   ],
   "source": [
    "# Compute the prev month's sales using the shift function\n",
    "df2['PrevMonthSales'] = df2.groupby('Product')['Sales'].shift(1)\n",
    "df2['GrowthRate M1'] = (df2['Sales'] - df2['PrevMonthSales']) *100/ df2['PrevMonthSales']\n",
    "\n",
    "# Filter out rows where NextMonthSales is NaN \n",
    "#result = df2.dropna(subset=['NextMonthSales'])\n",
    "\n",
    "\n",
    "\n",
    "# ANOTHER WAY\n",
    "\n",
    "df2['GrowthRate M2'] = df2.groupby('Product')['Sales'].pct_change() * 100\n",
    "print(df2)"
   ]
  },
  {
   "cell_type": "markdown",
   "metadata": {},
   "source": [
    "### Solving in SQL"
   ]
  },
  {
   "cell_type": "markdown",
   "metadata": {},
   "source": [
    "#### Creating Connection and tables"
   ]
  },
  {
   "cell_type": "code",
   "execution_count": 9,
   "metadata": {},
   "outputs": [],
   "source": [
    "# Define the connection string\n",
    "conn_str = (\n",
    "    r'DRIVER={SQL Server Native Client 11.0};'\n",
    "    r'SERVER=server_name;'\n",
    "    r'DATABASE=AdvanceSQL;'\n",
    "    r'Trusted_Connection=yes;'\n",
    ")\n",
    "\n",
    "# Establish the connection\n",
    "conn = pyodbc.connect(conn_str)\n",
    "cursor = conn.cursor()\n"
   ]
  },
  {
   "cell_type": "code",
   "execution_count": 11,
   "metadata": {},
   "outputs": [],
   "source": [
    "# Define the SQL command to create a table\n",
    "create_table_sql = \"\"\"\n",
    "CREATE TABLE MOM (\n",
    "    Month date,\n",
    "    Product VARCHAR(10),\n",
    "    Sales DECIMAL(10, 2)\n",
    ")\n",
    "\"\"\"\n",
    "\n",
    "# Execute the SQL command\n",
    "cursor.execute(create_table_sql)\n",
    "conn.commit()\n",
    "print(\"Table created successfully.\")\n",
    "\n",
    "\n",
    "# insert query\n",
    "# insert_sql = \"\"\"\n",
    "# INSERT INTO MOM (Month, Product, Sales)\n",
    "# VALUES (?, ?, ?)\n",
    "# \"\"\"\n",
    "# Example data to insert\n",
    "# data = [\n",
    "#     ('Jan', 'A', 200),\n",
    "#     ('Feb', 'A', 220),\n",
    "#     ('Mar', 'A', 240),\n",
    "#     ('Jan', 'B', 150),\n",
    "#     ('Feb', 'B', 165),\n",
    "#     ('Mar', 'B', 180)\n",
    "# ]\n",
    "# cursor.executemany(insert_sql,data)\n",
    "\n",
    "\n",
    "insert_sql = \"\"\"\n",
    "INSERT INTO MOM (Month, Product, Sales)\n",
    "VALUES \n",
    "    (CAST('2024-01-01' AS DATE), 'A', 200), -- Jan\n",
    "    (CAST('2024-02-01' AS DATE), 'A', 220), -- Feb\n",
    "    (CAST('2024-03-01' AS DATE), 'A', 240), -- Mar\n",
    "    (CAST('2024-01-01' AS DATE), 'B', 150), -- Jan\n",
    "    (CAST('2024-02-01' AS DATE), 'B', 165), -- Feb\n",
    "    (CAST('2024-03-01' AS DATE), 'B', 180); -- Mar\n",
    "\"\"\"\n",
    "\n",
    "# Execute the SQL command for each record\n",
    "cursor.execute(insert_sql)\n",
    "conn.commit()\n",
    "print(\"Records inserted successfully.\")\n"
   ]
  },
  {
   "cell_type": "code",
   "execution_count": 12,
   "metadata": {},
   "outputs": [],
   "source": [
    "query = \"\"\" \n",
    "WITH SalesWithLead AS (\n",
    "    SELECT\n",
    "        Month,\n",
    "        Product,\n",
    "        Sales,\n",
    "        lag(Sales) OVER (PARTITION BY Product ORDER BY Month) AS PrevMonthSales\n",
    "    FROM\n",
    "        MOM\n",
    ")\n",
    "SELECT\n",
    "    Month,\n",
    "    Product,\n",
    "    Sales,\n",
    "    PrevMonthSales,\n",
    "    (Sales - PrevMonthSales) * 100.0 / PrevMonthSales AS GrowthRate\n",
    "FROM\n",
    "    SalesWithLead;\n",
    "\"\"\""
   ]
  },
  {
   "cell_type": "code",
   "execution_count": 13,
   "metadata": {},
   "outputs": [
    {
     "name": "stdout",
     "output_type": "stream",
     "text": [
      "        Month Product  Sales  PrevMonthSales  GrowthRate\n",
      "0  2024-01-01       A  200.0             NaN         NaN\n",
      "1  2024-02-01       A  220.0           200.0   10.000000\n",
      "2  2024-03-01       A  240.0           220.0    9.090909\n",
      "3  2024-01-01       B  150.0             NaN         NaN\n",
      "4  2024-02-01       B  165.0           150.0   10.000000\n",
      "5  2024-03-01       B  180.0           165.0    9.090909\n"
     ]
    },
    {
     "name": "stderr",
     "output_type": "stream",
     "text": [
      "g:\\Downloads\\anaconda3\\lib\\site-packages\\pandas\\io\\sql.py:762: UserWarning: pandas only support SQLAlchemy connectable(engine/connection) ordatabase string URI or sqlite3 DBAPI2 connectionother DBAPI2 objects are not tested, please consider using SQLAlchemy\n",
      "  warnings.warn(\n"
     ]
    }
   ],
   "source": [
    "# Execute the query and fetch results into a DataFrame\n",
    "df = pd.read_sql_query(query, conn)\n",
    "\n",
    "# Display the result\n",
    "print(df)"
   ]
  },
  {
   "cell_type": "code",
   "execution_count": 14,
   "metadata": {},
   "outputs": [],
   "source": [
    "# close the cursor and connection\n",
    "cursor.close()\n",
    "conn.close()"
   ]
  },
  {
   "cell_type": "code",
   "execution_count": null,
   "metadata": {},
   "outputs": [],
   "source": []
  }
 ],
 "metadata": {
  "kernelspec": {
   "display_name": "base",
   "language": "python",
   "name": "python3"
  },
  "language_info": {
   "codemirror_mode": {
    "name": "ipython",
    "version": 3
   },
   "file_extension": ".py",
   "mimetype": "text/x-python",
   "name": "python",
   "nbconvert_exporter": "python",
   "pygments_lexer": "ipython3",
   "version": "3.9.7"
  }
 },
 "nbformat": 4,
 "nbformat_minor": 2
}
