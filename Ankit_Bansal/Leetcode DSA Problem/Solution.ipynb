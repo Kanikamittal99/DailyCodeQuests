{
 "cells": [
  {
   "cell_type": "code",
   "execution_count": 1,
   "metadata": {},
   "outputs": [
    {
     "name": "stdout",
     "output_type": "stream",
     "text": [
      "   customer  start_loc    end_loc\n",
      "0        c1   New York       Lima\n",
      "1        c1     London   New York\n",
      "2        c1       Lima  Sao Paulo\n",
      "3        c1  Sao Paulo  New Delhi\n",
      "4        c2     Mumbai  Hyderabad\n",
      "5        c2      Surat       Pune\n",
      "6        c2  Hyderabad      Surat\n",
      "7        c3      Kochi    Kurnool\n",
      "8        c3    Lucknow       Agra\n",
      "9        c3       Agra     Jaipur\n",
      "10       c3     Jaipur      Kochi\n"
     ]
    }
   ],
   "source": [
    "import pandas as pd\n",
    "\n",
    "# Define the data as a list of tuples\n",
    "data = [\n",
    "    ('c1', 'New York', 'Lima'),\n",
    "    ('c1', 'London', 'New York'),\n",
    "    ('c1', 'Lima', 'Sao Paulo'),\n",
    "    ('c1', 'Sao Paulo', 'New Delhi'),\n",
    "    ('c2', 'Mumbai', 'Hyderabad'),\n",
    "    ('c2', 'Surat', 'Pune'),\n",
    "    ('c2', 'Hyderabad', 'Surat'),\n",
    "    ('c3', 'Kochi', 'Kurnool'),\n",
    "    ('c3', 'Lucknow', 'Agra'),\n",
    "    ('c3', 'Agra', 'Jaipur'),\n",
    "    ('c3', 'Jaipur', 'Kochi')\n",
    "]\n",
    "\n",
    "# Define the columns\n",
    "columns = ['customer', 'start_loc', 'end_loc']\n",
    "\n",
    "# Create the DataFrame\n",
    "df = pd.DataFrame(data, columns=columns)\n",
    "\n",
    "# Display the DataFrame\n",
    "print(df)\n"
   ]
  },
  {
   "cell_type": "code",
   "execution_count": null,
   "metadata": {},
   "outputs": [],
   "source": []
  }
 ],
 "metadata": {
  "kernelspec": {
   "display_name": "base",
   "language": "python",
   "name": "python3"
  },
  "language_info": {
   "codemirror_mode": {
    "name": "ipython",
    "version": 3
   },
   "file_extension": ".py",
   "mimetype": "text/x-python",
   "name": "python",
   "nbconvert_exporter": "python",
   "pygments_lexer": "ipython3",
   "version": "3.9.7"
  }
 },
 "nbformat": 4,
 "nbformat_minor": 2
}
