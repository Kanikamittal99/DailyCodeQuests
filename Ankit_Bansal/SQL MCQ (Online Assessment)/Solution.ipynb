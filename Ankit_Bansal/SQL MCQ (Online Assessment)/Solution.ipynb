{
 "cells": [
  {
   "cell_type": "code",
   "execution_count": 1,
   "metadata": {},
   "outputs": [],
   "source": [
    "import pandas as pd\n",
    "import numpy as np"
   ]
  },
  {
   "cell_type": "code",
   "execution_count": 2,
   "metadata": {},
   "outputs": [
    {
     "name": "stdout",
     "output_type": "stream",
     "text": [
      "  id teamname    coach\n",
      "0  A   Team A  Coach A\n",
      "1  B   Team B  Coach B\n",
      "2  C   Team C  Coach C\n",
      "3  D   Team D  Coach D\n",
      "   matchid teamid player  goal_time\n",
      "0      101      A     A1         17\n",
      "1      101      A     A9         58\n",
      "2      101      B     B7         89\n",
      "3      102      D    D10         63\n",
      "    id      mdate    stadium team1 team2\n",
      "0  101 2019-01-04  stadium 1     A     B\n",
      "1  102 2019-01-04  stadium 3     D     E\n",
      "2  103 2019-01-10  stadium 1     A     C\n",
      "3  104 2019-01-13  stadium 2     B     E\n"
     ]
    }
   ],
   "source": [
    "# Create the team dataframe\n",
    "team_data = {\n",
    "    'id': ['A', 'B', 'C', 'D'],\n",
    "    'teamname': ['Team A', 'Team B', 'Team C', 'Team D'],\n",
    "    'coach': ['Coach A', 'Coach B', 'Coach C', 'Coach D']\n",
    "}\n",
    "team_df = pd.DataFrame(team_data)\n",
    "\n",
    "# Create the goal dataframe\n",
    "goal_data = {\n",
    "    'matchid': [101, 101, 101, 102],\n",
    "    'teamid': ['A', 'A', 'B', 'D'],\n",
    "    'player': ['A1', 'A9', 'B7', 'D10'],\n",
    "    'goal_time': [17, 58, 89, 63]\n",
    "}\n",
    "goal_df = pd.DataFrame(goal_data)\n",
    "\n",
    "# Create the game dataframe\n",
    "game_data = {\n",
    "    'id': [101, 102, 103, 104],\n",
    "    'mdate': pd.to_datetime(['2019-01-04', '2019-01-04', '2019-01-10', '2019-01-13']),\n",
    "    'stadium': ['stadium 1', 'stadium 3', 'stadium 1', 'stadium 2'],\n",
    "    'team1': ['A', 'D', 'A', 'B'],\n",
    "    'team2': ['B', 'E', 'C', 'E']\n",
    "}\n",
    "game_df = pd.DataFrame(game_data)\n",
    "\n",
    "print(team_df)\n",
    "print(goal_df)\n",
    "print(game_df)"
   ]
  },
  {
   "cell_type": "markdown",
   "metadata": {},
   "source": [
    "Merging game and goal tables\n",
    "\n",
    "Using left_on & right_on since join columns have different names "
   ]
  },
  {
   "cell_type": "code",
   "execution_count": 3,
   "metadata": {},
   "outputs": [
    {
     "data": {
      "text/html": [
       "<div>\n",
       "<style scoped>\n",
       "    .dataframe tbody tr th:only-of-type {\n",
       "        vertical-align: middle;\n",
       "    }\n",
       "\n",
       "    .dataframe tbody tr th {\n",
       "        vertical-align: top;\n",
       "    }\n",
       "\n",
       "    .dataframe thead th {\n",
       "        text-align: right;\n",
       "    }\n",
       "</style>\n",
       "<table border=\"1\" class=\"dataframe\">\n",
       "  <thead>\n",
       "    <tr style=\"text-align: right;\">\n",
       "      <th></th>\n",
       "      <th>id</th>\n",
       "      <th>mdate</th>\n",
       "      <th>stadium</th>\n",
       "      <th>team1</th>\n",
       "      <th>team2</th>\n",
       "      <th>matchid</th>\n",
       "      <th>teamid</th>\n",
       "      <th>player</th>\n",
       "      <th>goal_time</th>\n",
       "    </tr>\n",
       "  </thead>\n",
       "  <tbody>\n",
       "    <tr>\n",
       "      <th>0</th>\n",
       "      <td>101</td>\n",
       "      <td>2019-01-04</td>\n",
       "      <td>stadium 1</td>\n",
       "      <td>A</td>\n",
       "      <td>B</td>\n",
       "      <td>101.0</td>\n",
       "      <td>A</td>\n",
       "      <td>A1</td>\n",
       "      <td>17.0</td>\n",
       "    </tr>\n",
       "    <tr>\n",
       "      <th>1</th>\n",
       "      <td>101</td>\n",
       "      <td>2019-01-04</td>\n",
       "      <td>stadium 1</td>\n",
       "      <td>A</td>\n",
       "      <td>B</td>\n",
       "      <td>101.0</td>\n",
       "      <td>A</td>\n",
       "      <td>A9</td>\n",
       "      <td>58.0</td>\n",
       "    </tr>\n",
       "    <tr>\n",
       "      <th>2</th>\n",
       "      <td>101</td>\n",
       "      <td>2019-01-04</td>\n",
       "      <td>stadium 1</td>\n",
       "      <td>A</td>\n",
       "      <td>B</td>\n",
       "      <td>101.0</td>\n",
       "      <td>B</td>\n",
       "      <td>B7</td>\n",
       "      <td>89.0</td>\n",
       "    </tr>\n",
       "    <tr>\n",
       "      <th>3</th>\n",
       "      <td>102</td>\n",
       "      <td>2019-01-04</td>\n",
       "      <td>stadium 3</td>\n",
       "      <td>D</td>\n",
       "      <td>E</td>\n",
       "      <td>102.0</td>\n",
       "      <td>D</td>\n",
       "      <td>D10</td>\n",
       "      <td>63.0</td>\n",
       "    </tr>\n",
       "    <tr>\n",
       "      <th>4</th>\n",
       "      <td>103</td>\n",
       "      <td>2019-01-10</td>\n",
       "      <td>stadium 1</td>\n",
       "      <td>A</td>\n",
       "      <td>C</td>\n",
       "      <td>NaN</td>\n",
       "      <td>NaN</td>\n",
       "      <td>NaN</td>\n",
       "      <td>NaN</td>\n",
       "    </tr>\n",
       "    <tr>\n",
       "      <th>5</th>\n",
       "      <td>104</td>\n",
       "      <td>2019-01-13</td>\n",
       "      <td>stadium 2</td>\n",
       "      <td>B</td>\n",
       "      <td>E</td>\n",
       "      <td>NaN</td>\n",
       "      <td>NaN</td>\n",
       "      <td>NaN</td>\n",
       "      <td>NaN</td>\n",
       "    </tr>\n",
       "  </tbody>\n",
       "</table>\n",
       "</div>"
      ],
      "text/plain": [
       "    id      mdate    stadium team1 team2  matchid teamid player  goal_time\n",
       "0  101 2019-01-04  stadium 1     A     B    101.0      A     A1       17.0\n",
       "1  101 2019-01-04  stadium 1     A     B    101.0      A     A9       58.0\n",
       "2  101 2019-01-04  stadium 1     A     B    101.0      B     B7       89.0\n",
       "3  102 2019-01-04  stadium 3     D     E    102.0      D    D10       63.0\n",
       "4  103 2019-01-10  stadium 1     A     C      NaN    NaN    NaN        NaN\n",
       "5  104 2019-01-13  stadium 2     B     E      NaN    NaN    NaN        NaN"
      ]
     },
     "execution_count": 3,
     "metadata": {},
     "output_type": "execute_result"
    }
   ],
   "source": [
    "merged_game_goal = pd.merge(game_df, goal_df, how='left', left_on='id' ,right_on='matchid')\n",
    "merged_game_goal"
   ]
  },
  {
   "cell_type": "code",
   "execution_count": 9,
   "metadata": {},
   "outputs": [],
   "source": [
    "# Another way\n",
    "# merged_game_goal['t1_flag'] = merged_game_goal.apply(lambda x: 't' if x['team1'] == x['teamid'] else 'f', axis=1)\n",
    "\n",
    "merged_game_goal['t1_flag'] = (merged_game_goal['team1'] == merged_game_goal['teamid']).astype(int)\n",
    "merged_game_goal['t2_flag'] = (merged_game_goal['team2'] == merged_game_goal['teamid']).astype(int)\n"
   ]
  },
  {
   "cell_type": "code",
   "execution_count": 20,
   "metadata": {},
   "outputs": [
    {
     "name": "stdout",
     "output_type": "stream",
     "text": [
      "       mdate team1  t1_score team2  t2_score\n",
      "0 2019-01-04     A         2     B         1\n",
      "1 2019-01-04     D         1     E         0\n",
      "2 2019-01-10     A         0     C         0\n",
      "3 2019-01-13     B         0     E         0\n"
     ]
    }
   ],
   "source": [
    "# res = merged_game_goal.groupby(['id','mdate','team1','team2'], as_index= False).agg({'t1_flag' : 'sum', 't2_flag' : 'sum'}).drop(columns='id').rename(columns={'t1_flag': 't1_score', 't2_flag': 't2_score'})\n",
    "\n",
    "\n",
    "# Group by id, mdate, team1, team2 and then perform aggregations\n",
    "res = (merged_game_goal\n",
    "       .groupby(['id','mdate', 'team1', 'team2'], as_index=False)\n",
    "       .agg(t1_score=('t1_flag', 'sum'), t2_score=('t2_flag', 'sum'))  # Renaming columns along with aggregation\n",
    ")\n",
    "\n",
    "# Re-ordering as per our needs\n",
    "print(res[['mdate','team1','t1_score','team2','t2_score']])\n"
   ]
  },
  {
   "cell_type": "code",
   "execution_count": null,
   "metadata": {},
   "outputs": [],
   "source": []
  }
 ],
 "metadata": {
  "kernelspec": {
   "display_name": "base",
   "language": "python",
   "name": "python3"
  },
  "language_info": {
   "codemirror_mode": {
    "name": "ipython",
    "version": 3
   },
   "file_extension": ".py",
   "mimetype": "text/x-python",
   "name": "python",
   "nbconvert_exporter": "python",
   "pygments_lexer": "ipython3",
   "version": "3.9.7"
  }
 },
 "nbformat": 4,
 "nbformat_minor": 2
}
